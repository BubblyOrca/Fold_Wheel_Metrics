{
 "cells": [
  {
   "cell_type": "markdown",
   "id": "6a664b70",
   "metadata": {},
   "source": [
    "## Background\n",
    "\n",
    "The fold card allows the user to get sats back on purchases rather than a percentage of the purchase in fiat. Speciifcally, it is not a static percentage of the purchase the user gets back, but an opportunity to spin a random wheel for varying levels of sats back. The wheel, sats back, and percentages change on a regular basis. This is an analysis of Fold's 2022 New Year wheel.\n",
    "\n",
    "Fold states that the expected frequency of it's results are:\n",
    "\n",
    "Spinbomb - 4% (spinbombs result in many extra spins that the user must use within minutes)\n",
    "\n",
    "Deposits - 5.5% (the user gets 100% of their 30 day deposits in sats up to 1000 sats)\n",
    "\n",
    "Purchases - 5.5% (the user gets 100% of their largest purchase back in sats up to 5000 sats)\n",
    "\n",
    "0.5% back - 49.99% (the user gets 0.5% of the purchase back in sats to a max of $25 in sats)\n",
    "\n",
    "1% back - 18.0% (the user gets 1% of the purchase back in sats to a max of $25 in sats)\n",
    "\n",
    "2% back - 10% (the user gets 2% of the purchase back in sats to a max of $25 in sats)\n",
    "\n",
    "3% back - 3% (the user gets 3% of the purchase back in sats up to a max of $25)\n",
    "\n",
    "4% back - 2% (The user gets 4% of the purchase back in sats to a max of $50 in sats)\n",
    "\n",
    "5% back - 1% (The user gets 5% of the purchase back in sats up to a value of $50 in sats)\n",
    "\n",
    "100% back - .005% (100% back in sats up to a max of $50)\n",
    "\n",
    "10% over/under - 1% (10% of the purchase back if it was more than $500, otherwise no reward)\n",
    "\n",
    "$500 of bitcoin - .005% (just like it sounds)\n",
    "\n",
    "Once a user spins, they may accept their spin result or use earned additional spins to improve their sats back. Alternately, new for the New Year, the user may elect a flat 1.5% back in sats and not use a spin at all.\n",
    "\n",
    "# Method\n",
    "107 consequtive spins were recorded. These include original spins and used extra spins that the user aquired via Fold's processes. Spin results that did not occur in the sample were ignored in this analysis. \n",
    "\n",
    "The initial sample was used to bootstrap larger random samples and the distribution of the resulting frequencies was compared to the published expected frequencies."
   ]
  },
  {
   "cell_type": "code",
   "execution_count": 1,
   "id": "aea79f12",
   "metadata": {},
   "outputs": [],
   "source": [
    "#importing necessary libraries\n",
    "import pandas as pd\n",
    "import numpy as np\n",
    "import matplotlib.pyplot as plt\n",
    "import seaborn as sns"
   ]
  },
  {
   "cell_type": "markdown",
   "id": "3e95000b",
   "metadata": {},
   "source": [
    "First, let's bring in Fold's published odds as our expected frequencies (Exp_Freq)."
   ]
  },
  {
   "cell_type": "code",
   "execution_count": 16,
   "id": "5ae492d2",
   "metadata": {
    "scrolled": true
   },
   "outputs": [
    {
     "data": {
      "text/html": [
       "<div>\n",
       "<style scoped>\n",
       "    .dataframe tbody tr th:only-of-type {\n",
       "        vertical-align: middle;\n",
       "    }\n",
       "\n",
       "    .dataframe tbody tr th {\n",
       "        vertical-align: top;\n",
       "    }\n",
       "\n",
       "    .dataframe thead th {\n",
       "        text-align: right;\n",
       "    }\n",
       "</style>\n",
       "<table border=\"1\" class=\"dataframe\">\n",
       "  <thead>\n",
       "    <tr style=\"text-align: right;\">\n",
       "      <th></th>\n",
       "      <th>Result</th>\n",
       "      <th>Freq</th>\n",
       "      <th>Type</th>\n",
       "    </tr>\n",
       "  </thead>\n",
       "  <tbody>\n",
       "    <tr>\n",
       "      <th>0</th>\n",
       "      <td>Spinbomb</td>\n",
       "      <td>0.0400</td>\n",
       "      <td>Exp_Freq</td>\n",
       "    </tr>\n",
       "    <tr>\n",
       "      <th>1</th>\n",
       "      <td>Dep</td>\n",
       "      <td>0.0550</td>\n",
       "      <td>Exp_Freq</td>\n",
       "    </tr>\n",
       "    <tr>\n",
       "      <th>2</th>\n",
       "      <td>Purch</td>\n",
       "      <td>0.0550</td>\n",
       "      <td>Exp_Freq</td>\n",
       "    </tr>\n",
       "    <tr>\n",
       "      <th>3</th>\n",
       "      <td>0.5%</td>\n",
       "      <td>0.4999</td>\n",
       "      <td>Exp_Freq</td>\n",
       "    </tr>\n",
       "    <tr>\n",
       "      <th>4</th>\n",
       "      <td>1%</td>\n",
       "      <td>0.1800</td>\n",
       "      <td>Exp_Freq</td>\n",
       "    </tr>\n",
       "    <tr>\n",
       "      <th>5</th>\n",
       "      <td>2%</td>\n",
       "      <td>0.1000</td>\n",
       "      <td>Exp_Freq</td>\n",
       "    </tr>\n",
       "    <tr>\n",
       "      <th>6</th>\n",
       "      <td>3%</td>\n",
       "      <td>0.0300</td>\n",
       "      <td>Exp_Freq</td>\n",
       "    </tr>\n",
       "    <tr>\n",
       "      <th>7</th>\n",
       "      <td>4%</td>\n",
       "      <td>0.0200</td>\n",
       "      <td>Exp_Freq</td>\n",
       "    </tr>\n",
       "    <tr>\n",
       "      <th>8</th>\n",
       "      <td>5%</td>\n",
       "      <td>0.0100</td>\n",
       "      <td>Exp_Freq</td>\n",
       "    </tr>\n",
       "    <tr>\n",
       "      <th>9</th>\n",
       "      <td>10%</td>\n",
       "      <td>0.0100</td>\n",
       "      <td>Exp_Freq</td>\n",
       "    </tr>\n",
       "  </tbody>\n",
       "</table>\n",
       "</div>"
      ],
      "text/plain": [
       "     Result    Freq      Type\n",
       "0  Spinbomb  0.0400  Exp_Freq\n",
       "1       Dep  0.0550  Exp_Freq\n",
       "2     Purch  0.0550  Exp_Freq\n",
       "3      0.5%  0.4999  Exp_Freq\n",
       "4        1%  0.1800  Exp_Freq\n",
       "5        2%  0.1000  Exp_Freq\n",
       "6        3%  0.0300  Exp_Freq\n",
       "7        4%  0.0200  Exp_Freq\n",
       "8        5%  0.0100  Exp_Freq\n",
       "9       10%  0.0100  Exp_Freq"
      ]
     },
     "execution_count": 16,
     "metadata": {},
     "output_type": "execute_result"
    }
   ],
   "source": [
    "fold_says = {'Spinbomb':.04,'Dep':.055,'Purch':.055,'1%':.18,'0.5%':.4999,'4%':.02,'5%':.01,'3%':.03,'2%':.1,'10%':.01}\n",
    "expected_df = pd.DataFrame({'Result':['Spinbomb','Dep','Purch','0.5%','1%','2%','3%','4%','5%','10%'],\n",
    "             'Freq':[.04,.055,.055,.4999,.18,.1,.03,.02,.01,.01]}).set_index('Result',drop=True)\n",
    "expected_df['Type']='Exp_Freq'\n",
    "expected_df.reset_index(inplace=True,drop=False)\n",
    "expected_df"
   ]
  },
  {
   "cell_type": "markdown",
   "id": "d5f34211",
   "metadata": {},
   "source": [
    "Now, we'll take a look at the 105 observed spins from the last two weeks of 2021."
   ]
  },
  {
   "cell_type": "code",
   "execution_count": 17,
   "id": "e4864474",
   "metadata": {},
   "outputs": [],
   "source": [
    "obs_spins = pd.read_csv('New_Year_Wheel.csv').SPIN_RESULT.tolist()\n",
    "# obs_spins\n"
   ]
  },
  {
   "cell_type": "code",
   "execution_count": 18,
   "id": "22efcbb9",
   "metadata": {},
   "outputs": [
    {
     "data": {
      "text/html": [
       "<div>\n",
       "<style scoped>\n",
       "    .dataframe tbody tr th:only-of-type {\n",
       "        vertical-align: middle;\n",
       "    }\n",
       "\n",
       "    .dataframe tbody tr th {\n",
       "        vertical-align: top;\n",
       "    }\n",
       "\n",
       "    .dataframe thead th {\n",
       "        text-align: right;\n",
       "    }\n",
       "</style>\n",
       "<table border=\"1\" class=\"dataframe\">\n",
       "  <thead>\n",
       "    <tr style=\"text-align: right;\">\n",
       "      <th></th>\n",
       "      <th>Result</th>\n",
       "      <th>Freq</th>\n",
       "      <th>Type</th>\n",
       "    </tr>\n",
       "  </thead>\n",
       "  <tbody>\n",
       "    <tr>\n",
       "      <th>0</th>\n",
       "      <td>0.5%</td>\n",
       "      <td>0.476636</td>\n",
       "      <td>Obs_Freq</td>\n",
       "    </tr>\n",
       "    <tr>\n",
       "      <th>1</th>\n",
       "      <td>1%</td>\n",
       "      <td>0.149533</td>\n",
       "      <td>Obs_Freq</td>\n",
       "    </tr>\n",
       "    <tr>\n",
       "      <th>2</th>\n",
       "      <td>2%</td>\n",
       "      <td>0.121495</td>\n",
       "      <td>Obs_Freq</td>\n",
       "    </tr>\n",
       "    <tr>\n",
       "      <th>3</th>\n",
       "      <td>5%</td>\n",
       "      <td>0.074766</td>\n",
       "      <td>Obs_Freq</td>\n",
       "    </tr>\n",
       "    <tr>\n",
       "      <th>4</th>\n",
       "      <td>4%</td>\n",
       "      <td>0.046729</td>\n",
       "      <td>Obs_Freq</td>\n",
       "    </tr>\n",
       "    <tr>\n",
       "      <th>5</th>\n",
       "      <td>Purch</td>\n",
       "      <td>0.046729</td>\n",
       "      <td>Obs_Freq</td>\n",
       "    </tr>\n",
       "    <tr>\n",
       "      <th>6</th>\n",
       "      <td>3%</td>\n",
       "      <td>0.037383</td>\n",
       "      <td>Obs_Freq</td>\n",
       "    </tr>\n",
       "    <tr>\n",
       "      <th>7</th>\n",
       "      <td>Dep</td>\n",
       "      <td>0.028037</td>\n",
       "      <td>Obs_Freq</td>\n",
       "    </tr>\n",
       "    <tr>\n",
       "      <th>8</th>\n",
       "      <td>10%</td>\n",
       "      <td>0.009346</td>\n",
       "      <td>Obs_Freq</td>\n",
       "    </tr>\n",
       "    <tr>\n",
       "      <th>9</th>\n",
       "      <td>Spins</td>\n",
       "      <td>0.009346</td>\n",
       "      <td>Obs_Freq</td>\n",
       "    </tr>\n",
       "  </tbody>\n",
       "</table>\n",
       "</div>"
      ],
      "text/plain": [
       "  Result      Freq      Type\n",
       "0   0.5%  0.476636  Obs_Freq\n",
       "1     1%  0.149533  Obs_Freq\n",
       "2     2%  0.121495  Obs_Freq\n",
       "3     5%  0.074766  Obs_Freq\n",
       "4     4%  0.046729  Obs_Freq\n",
       "5  Purch  0.046729  Obs_Freq\n",
       "6     3%  0.037383  Obs_Freq\n",
       "7    Dep  0.028037  Obs_Freq\n",
       "8    10%  0.009346  Obs_Freq\n",
       "9  Spins  0.009346  Obs_Freq"
      ]
     },
     "execution_count": 18,
     "metadata": {},
     "output_type": "execute_result"
    }
   ],
   "source": [
    "#create dataframe of observed spins frequency\n",
    "observed_df = pd.DataFrame(pd.DataFrame({'Result':obs_spins}).value_counts(normalize=True),columns=['Freq'])\n",
    "observed_df['Type']='Obs_Freq'\n",
    "observed_df.reset_index(inplace=True,drop=False)\n",
    "observed_df"
   ]
  },
  {
   "cell_type": "markdown",
   "id": "5f75487d",
   "metadata": {},
   "source": [
    "Now let's bring these together for an initial look."
   ]
  },
  {
   "cell_type": "code",
   "execution_count": 19,
   "id": "a87ee2aa",
   "metadata": {
    "scrolled": false
   },
   "outputs": [
    {
     "data": {
      "text/html": [
       "<div>\n",
       "<style scoped>\n",
       "    .dataframe tbody tr th:only-of-type {\n",
       "        vertical-align: middle;\n",
       "    }\n",
       "\n",
       "    .dataframe tbody tr th {\n",
       "        vertical-align: top;\n",
       "    }\n",
       "\n",
       "    .dataframe thead th {\n",
       "        text-align: right;\n",
       "    }\n",
       "</style>\n",
       "<table border=\"1\" class=\"dataframe\">\n",
       "  <thead>\n",
       "    <tr style=\"text-align: right;\">\n",
       "      <th></th>\n",
       "      <th>Result</th>\n",
       "      <th>Freq</th>\n",
       "      <th>Type</th>\n",
       "    </tr>\n",
       "  </thead>\n",
       "  <tbody>\n",
       "    <tr>\n",
       "      <th>0</th>\n",
       "      <td>0.5%</td>\n",
       "      <td>0.476636</td>\n",
       "      <td>Obs_Freq</td>\n",
       "    </tr>\n",
       "    <tr>\n",
       "      <th>1</th>\n",
       "      <td>1%</td>\n",
       "      <td>0.149533</td>\n",
       "      <td>Obs_Freq</td>\n",
       "    </tr>\n",
       "    <tr>\n",
       "      <th>2</th>\n",
       "      <td>2%</td>\n",
       "      <td>0.121495</td>\n",
       "      <td>Obs_Freq</td>\n",
       "    </tr>\n",
       "    <tr>\n",
       "      <th>3</th>\n",
       "      <td>5%</td>\n",
       "      <td>0.074766</td>\n",
       "      <td>Obs_Freq</td>\n",
       "    </tr>\n",
       "    <tr>\n",
       "      <th>4</th>\n",
       "      <td>4%</td>\n",
       "      <td>0.046729</td>\n",
       "      <td>Obs_Freq</td>\n",
       "    </tr>\n",
       "    <tr>\n",
       "      <th>5</th>\n",
       "      <td>Purch</td>\n",
       "      <td>0.046729</td>\n",
       "      <td>Obs_Freq</td>\n",
       "    </tr>\n",
       "    <tr>\n",
       "      <th>6</th>\n",
       "      <td>3%</td>\n",
       "      <td>0.037383</td>\n",
       "      <td>Obs_Freq</td>\n",
       "    </tr>\n",
       "    <tr>\n",
       "      <th>7</th>\n",
       "      <td>Dep</td>\n",
       "      <td>0.028037</td>\n",
       "      <td>Obs_Freq</td>\n",
       "    </tr>\n",
       "    <tr>\n",
       "      <th>8</th>\n",
       "      <td>10%</td>\n",
       "      <td>0.009346</td>\n",
       "      <td>Obs_Freq</td>\n",
       "    </tr>\n",
       "    <tr>\n",
       "      <th>9</th>\n",
       "      <td>Spins</td>\n",
       "      <td>0.009346</td>\n",
       "      <td>Obs_Freq</td>\n",
       "    </tr>\n",
       "    <tr>\n",
       "      <th>0</th>\n",
       "      <td>Spinbomb</td>\n",
       "      <td>0.040000</td>\n",
       "      <td>Exp_Freq</td>\n",
       "    </tr>\n",
       "    <tr>\n",
       "      <th>1</th>\n",
       "      <td>Dep</td>\n",
       "      <td>0.055000</td>\n",
       "      <td>Exp_Freq</td>\n",
       "    </tr>\n",
       "    <tr>\n",
       "      <th>2</th>\n",
       "      <td>Purch</td>\n",
       "      <td>0.055000</td>\n",
       "      <td>Exp_Freq</td>\n",
       "    </tr>\n",
       "    <tr>\n",
       "      <th>3</th>\n",
       "      <td>0.5%</td>\n",
       "      <td>0.499900</td>\n",
       "      <td>Exp_Freq</td>\n",
       "    </tr>\n",
       "    <tr>\n",
       "      <th>4</th>\n",
       "      <td>1%</td>\n",
       "      <td>0.180000</td>\n",
       "      <td>Exp_Freq</td>\n",
       "    </tr>\n",
       "    <tr>\n",
       "      <th>5</th>\n",
       "      <td>2%</td>\n",
       "      <td>0.100000</td>\n",
       "      <td>Exp_Freq</td>\n",
       "    </tr>\n",
       "    <tr>\n",
       "      <th>6</th>\n",
       "      <td>3%</td>\n",
       "      <td>0.030000</td>\n",
       "      <td>Exp_Freq</td>\n",
       "    </tr>\n",
       "    <tr>\n",
       "      <th>7</th>\n",
       "      <td>4%</td>\n",
       "      <td>0.020000</td>\n",
       "      <td>Exp_Freq</td>\n",
       "    </tr>\n",
       "    <tr>\n",
       "      <th>8</th>\n",
       "      <td>5%</td>\n",
       "      <td>0.010000</td>\n",
       "      <td>Exp_Freq</td>\n",
       "    </tr>\n",
       "    <tr>\n",
       "      <th>9</th>\n",
       "      <td>10%</td>\n",
       "      <td>0.010000</td>\n",
       "      <td>Exp_Freq</td>\n",
       "    </tr>\n",
       "  </tbody>\n",
       "</table>\n",
       "</div>"
      ],
      "text/plain": [
       "     Result      Freq      Type\n",
       "0      0.5%  0.476636  Obs_Freq\n",
       "1        1%  0.149533  Obs_Freq\n",
       "2        2%  0.121495  Obs_Freq\n",
       "3        5%  0.074766  Obs_Freq\n",
       "4        4%  0.046729  Obs_Freq\n",
       "5     Purch  0.046729  Obs_Freq\n",
       "6        3%  0.037383  Obs_Freq\n",
       "7       Dep  0.028037  Obs_Freq\n",
       "8       10%  0.009346  Obs_Freq\n",
       "9     Spins  0.009346  Obs_Freq\n",
       "0  Spinbomb  0.040000  Exp_Freq\n",
       "1       Dep  0.055000  Exp_Freq\n",
       "2     Purch  0.055000  Exp_Freq\n",
       "3      0.5%  0.499900  Exp_Freq\n",
       "4        1%  0.180000  Exp_Freq\n",
       "5        2%  0.100000  Exp_Freq\n",
       "6        3%  0.030000  Exp_Freq\n",
       "7        4%  0.020000  Exp_Freq\n",
       "8        5%  0.010000  Exp_Freq\n",
       "9       10%  0.010000  Exp_Freq"
      ]
     },
     "execution_count": 19,
     "metadata": {},
     "output_type": "execute_result"
    }
   ],
   "source": [
    "df=observed_df.append(expected_df)\n",
    "\n",
    "df"
   ]
  },
  {
   "cell_type": "markdown",
   "id": "ce1e7d14",
   "metadata": {},
   "source": [
    "And we can visualize this for an ituitive first look."
   ]
  },
  {
   "cell_type": "code",
   "execution_count": 20,
   "id": "69018ce2",
   "metadata": {
    "scrolled": false
   },
   "outputs": [
    {
     "data": {
      "image/png": "[encoded data removed]",
      "text/plain": [
       "<Figure size 792x360 with 1 Axes>"
      ]
     },
     "metadata": {},
     "output_type": "display_data"
    }
   ],
   "source": [
    "sns.set(rc={'figure.figsize':(11,5)})\n",
    "sns.set_style('white')\n",
    "sns.pointplot(x=df.Type, y=df.Freq,hue=df.Result,data=df,dodge=True);"
   ]
  },
  {
   "cell_type": "raw",
   "id": "3a691753",
   "metadata": {},
   "source": [
    "So, just eyeballing the data it looks like several spin results are in line with the expected odds. Purchases, Deposits, 10%, and 3% all appear as nearly horizontal lines. The 5% result is a few % over expected, and 2% as well.\n",
    "\n",
    "However, .5%, spinbomb, and 1% all seem to occur less frequently than expected. \n",
    "\n",
    "But what we can't see from this pointplot is any statistical validity in this assessment. Normally, with only 107 observations of 11 outcomes, we wouldn't have the power to do any statistical validity. However, bootstrapping or resampling with replacement offers us a chance to create confidence intervals to compare observed results with. \n",
    "\n",
    "Our first step is to create a numpy array from our observed dataset."
   ]
  },
  {
   "cell_type": "code",
   "execution_count": 21,
   "id": "ebf1d77c",
   "metadata": {
    "scrolled": false
   },
   "outputs": [],
   "source": [
    "spins = np.array(obs_spins)"
   ]
  },
  {
   "cell_type": "markdown",
   "id": "eaaef3b8",
   "metadata": {},
   "source": [
    "Now we create empty lists to hold our bootstrapped frequencies."
   ]
  },
  {
   "cell_type": "code",
   "execution_count": 36,
   "id": "40d36cdd",
   "metadata": {},
   "outputs": [],
   "source": [
    "purch_freqs=[]\n",
    "sats_freqs=[]\n",
    "half_perc_freqs=[]\n",
    "spinbomb_freqs=[]\n",
    "perc_2_freqs=[]\n",
    "dep_freqs=[]\n",
    "perc_4_freqs=[]\n",
    "perc_1_freqs=[]\n",
    "perc_3_freqs=[]\n",
    "perc_5_freqs=[]\n",
    "perc_10_freqs=[]"
   ]
  },
  {
   "cell_type": "markdown",
   "id": "8a3b2b66",
   "metadata": {},
   "source": [
    "Next comes the primary bootstrapping process. We will run 10,000 iterations of resampling the 105 spins with replacement. This process picks randomly from the original spins without excluding those spins already chosen giving us the opportunity to find a distribution over which the 105 spins could have happened. "
   ]
  },
  {
   "cell_type": "code",
   "execution_count": 37,
   "id": "97812925",
   "metadata": {},
   "outputs": [],
   "source": [
    "for i in range(10000):\n",
    "    #create bootstrap sample\n",
    "    boot = np.random.choice(spins,spins.size,replace=True)\n",
    "    # find resulting frequency for 30-day purchases\n",
    "    purch_freq = boot[boot=='Purch'].size/boot.size\n",
    "    purch_freqs.append(purch_freq)\n",
    "    # find resulting frequency for 10%\n",
    "    perc_10_freq = boot[boot=='10%'].size/boot.size\n",
    "    perc_10_freqs.append(perc_10_freq)\n",
    "    # find resulting frequency for 0.5% back\n",
    "    half_perc_freq = boot[boot=='0.5%'].size/boot.size\n",
    "    half_perc_freqs.append(half_perc_freq)\n",
    "    # find resulting frequency for Spinbomb\n",
    "    spinbomb_freq = boot[boot=='Spinbomb'].size/boot.size\n",
    "    spinbomb_freqs.append(spinbomb_freq)\n",
    "    # find resulting frequency for 1% back\n",
    "    perc_1_freq = boot[boot=='1%'].size/boot.size\n",
    "    perc_1_freqs.append(perc_15_freq)\n",
    "    # find resulting frequency for 30-day deposits back\n",
    "    dep_freq = boot[boot=='Dep'].size/boot.size\n",
    "    dep_freqs.append(dep_freq)\n",
    "    # find resulting frequency for 4% back\n",
    "    perc_4_freq = boot[boot=='4%'].size/boot.size\n",
    "    perc_4_freqs.append(perc_4_freq)\n",
    "    # find resulting frequency for 2% back\n",
    "    perc_2_freq = boot[boot=='2%'].size/boot.size\n",
    "    perc_2_freqs.append(perc_1_freq)\n",
    "    # find resulting frequency for 3% back\n",
    "    perc_3_freq = boot[boot=='3%'].size/boot.size\n",
    "    perc_3_freqs.append(perc_1_freq)\n",
    "    # find resulting frequency for 5% back\n",
    "    perc_5_freq = boot[boot=='5%'].size/boot.size\n",
    "    perc_5_freqs.append(perc_1_freq)\n"
   ]
  },
  {
   "cell_type": "code",
   "execution_count": 38,
   "id": "8a8c080a",
   "metadata": {
    "scrolled": true
   },
   "outputs": [
    {
     "data": {
      "text/plain": [
       "0.7395"
      ]
     },
     "execution_count": 38,
     "metadata": {},
     "output_type": "execute_result"
    },
    {
     "data": {
      "image/png": "[encoded data removed]",
      "text/plain": [
       "<Figure size 432x288 with 1 Axes>"
      ]
     },
     "metadata": {},
     "output_type": "display_data"
    }
   ],
   "source": [
    "plt.figure(figsize=(6,4))\n",
    "plt.hist(perc_10_freqs)\n",
    "plt.axvline(fold_says.get('10%'),color='r');\n",
    "(np.array(perc_10_freqs) <= fold_says.get('10%')).mean()"
   ]
  },
  {
   "cell_type": "markdown",
   "id": "34369b7c",
   "metadata": {},
   "source": [
    "The 95% confidence interval for the bootstrapped mean does include the expected frequency of 10% over/under. The chance of getting 10% back does occur if the purchase has been great enough. Of course, the question really is, what percentage of your purchases exceed $500?"
   ]
  },
  {
   "cell_type": "code",
   "execution_count": 39,
   "id": "1a8017e3",
   "metadata": {},
   "outputs": [
    {
     "data": {
      "image/png": "[encoded data removed]",
      "text/plain": [
       "<Figure size 432x288 with 1 Axes>"
      ]
     },
     "metadata": {},
     "output_type": "display_data"
    }
   ],
   "source": [
    "plt.figure(figsize=(6,4))\n",
    "plt.hist(purch_freqs)\n",
    "plt.axvline(fold_says.get('Purch'),color='r');"
   ]
  },
  {
   "cell_type": "markdown",
   "id": "c33fa077",
   "metadata": {},
   "source": [
    "The 95% confidence interval for the bootstrapped mean includes the expected frequency of winning the highest purchase in sats."
   ]
  },
  {
   "cell_type": "code",
   "execution_count": 40,
   "id": "3a2e8fb3",
   "metadata": {},
   "outputs": [
    {
     "data": {
      "text/plain": [
       "0.3176"
      ]
     },
     "execution_count": 40,
     "metadata": {},
     "output_type": "execute_result"
    },
    {
     "data": {
      "image/png": "[encoded data removed]",
      "text/plain": [
       "<Figure size 432x288 with 1 Axes>"
      ]
     },
     "metadata": {},
     "output_type": "display_data"
    }
   ],
   "source": [
    "plt.figure(figsize=(6,4))\n",
    "plt.hist(half_perc_freqs)\n",
    "plt.axvline(fold_says.get('0.5%'),color='r');\n",
    "(np.array(half_perc_freqs)>=fold_says.get('0.5%')).mean()"
   ]
  },
  {
   "cell_type": "markdown",
   "id": "aab52d11",
   "metadata": {},
   "source": [
    "The 95% confidence interval of the mean of the bootstrapped samples contains the expected frequency of winning 0.5% of the purchase."
   ]
  },
  {
   "cell_type": "code",
   "execution_count": 41,
   "id": "551d0fdf",
   "metadata": {
    "scrolled": true
   },
   "outputs": [
    {
     "data": {
      "image/png": "[encoded data removed]",
      "text/plain": [
       "<Figure size 432x288 with 1 Axes>"
      ]
     },
     "metadata": {},
     "output_type": "display_data"
    }
   ],
   "source": [
    "plt.figure(figsize=(6,4))\n",
    "plt.hist(spinbomb_freqs)\n",
    "plt.axvline(fold_says.get('Spinbomb'),color='r');"
   ]
  },
  {
   "cell_type": "markdown",
   "id": "d450bca0",
   "metadata": {},
   "source": [
    "The published frequency occurs within the 95% confidence interval of the bootstrapped samples."
   ]
  },
  {
   "cell_type": "code",
   "execution_count": 43,
   "id": "e91b03f7",
   "metadata": {
    "scrolled": true
   },
   "outputs": [
    {
     "data": {
      "text/plain": [
       "0.0615"
      ]
     },
     "execution_count": 43,
     "metadata": {},
     "output_type": "execute_result"
    },
    {
     "data": {
      "image/png": "[encoded data removed]",
      "text/plain": [
       "<Figure size 432x288 with 1 Axes>"
      ]
     },
     "metadata": {},
     "output_type": "display_data"
    }
   ],
   "source": [
    "plt.figure(figsize=(6,4))\n",
    "plt.hist(perc_2_freqs)\n",
    "plt.axvline(fold_says.get('2%'),color='r');\n",
    "(np.array(perc_2_freqs)<=fold_says.get('2%')).mean()"
   ]
  },
  {
   "cell_type": "markdown",
   "id": "7cc1b372",
   "metadata": {},
   "source": [
    "The published frequency of winning 2% of the purchase back in sats is within the 95% confidence interval of the bootstrapped samples, but not by much."
   ]
  },
  {
   "cell_type": "code",
   "execution_count": 45,
   "id": "16240c26",
   "metadata": {
    "scrolled": true
   },
   "outputs": [
    {
     "data": {
      "text/plain": [
       "0.9175"
      ]
     },
     "execution_count": 45,
     "metadata": {},
     "output_type": "execute_result"
    },
    {
     "data": {
      "image/png": "[encoded data removed]",
      "text/plain": [
       "<Figure size 432x288 with 1 Axes>"
      ]
     },
     "metadata": {},
     "output_type": "display_data"
    }
   ],
   "source": [
    "plt.figure(figsize=(6,4))\n",
    "plt.hist(dep_freqs)\n",
    "plt.axvline(fold_says.get('Dep'),color='r');\n",
    "(np.array(dep_freqs)<=fold_says.get('Dep')).mean()"
   ]
  },
  {
   "cell_type": "markdown",
   "id": "8bca7f69",
   "metadata": {},
   "source": [
    "The published frequency of winning 30 days Deposits in sats is within the 95% confidence interval of the bootstrapped samples."
   ]
  },
  {
   "cell_type": "code",
   "execution_count": 47,
   "id": "17e85c64",
   "metadata": {},
   "outputs": [
    {
     "data": {
      "text/plain": [
       "0.1154"
      ]
     },
     "execution_count": 47,
     "metadata": {},
     "output_type": "execute_result"
    },
    {
     "data": {
      "image/png": "[encoded data removed]",
      "text/plain": [
       "<Figure size 432x288 with 1 Axes>"
      ]
     },
     "metadata": {},
     "output_type": "display_data"
    }
   ],
   "source": [
    "plt.figure(figsize=(6,4))\n",
    "plt.hist(perc_4_freqs)\n",
    "plt.axvline(fold_says.get('4%'),color='r');\n",
    "(np.array(perc_4_freqs)<=fold_says.get('4%')).mean()"
   ]
  },
  {
   "cell_type": "markdown",
   "id": "2d7fc06b",
   "metadata": {},
   "source": [
    "The chance of winning 4% occurs within the 95% confidence interval of the expected outcome."
   ]
  },
  {
   "cell_type": "code",
   "execution_count": 49,
   "id": "97c940f3",
   "metadata": {},
   "outputs": [
    {
     "data": {
      "text/plain": [
       "1.0"
      ]
     },
     "execution_count": 49,
     "metadata": {},
     "output_type": "execute_result"
    },
    {
     "data": {
      "image/png": "[encoded data removed]",
      "text/plain": [
       "<Figure size 432x288 with 1 Axes>"
      ]
     },
     "metadata": {},
     "output_type": "display_data"
    }
   ],
   "source": [
    "plt.figure(figsize=(6,4))\n",
    "plt.hist(perc_1_freqs)\n",
    "plt.axvline(fold_says.get('1%'),color='r');\n",
    "(np.array(perc_1_freqs) < fold_says.get('1%')).mean()"
   ]
  },
  {
   "cell_type": "markdown",
   "id": "92a24d31",
   "metadata": {},
   "source": [
    "The chance of getting 1% back occurs outside the 95% confidence limit of the expected frequency. It occurs less often."
   ]
  },
  {
   "cell_type": "code",
   "execution_count": 50,
   "id": "80238a89",
   "metadata": {},
   "outputs": [
    {
     "data": {
      "text/plain": [
       "0.0"
      ]
     },
     "execution_count": 50,
     "metadata": {},
     "output_type": "execute_result"
    },
    {
     "data": {
      "image/png": "[encoded data removed]",
      "text/plain": [
       "<Figure size 432x288 with 1 Axes>"
      ]
     },
     "metadata": {},
     "output_type": "display_data"
    }
   ],
   "source": [
    "plt.figure(figsize=(6,4))\n",
    "plt.hist(perc_3_freqs)\n",
    "plt.axvline(fold_says.get('3%'),color='r');\n",
    "(np.array(perc_3_freqs) < fold_says.get('3%')).mean()"
   ]
  },
  {
   "cell_type": "markdown",
   "id": "0ed64c19",
   "metadata": {},
   "source": [
    "The chance of getting 3% back occurs more frequently than expected."
   ]
  },
  {
   "cell_type": "code",
   "execution_count": 52,
   "id": "c25eab2a",
   "metadata": {},
   "outputs": [
    {
     "data": {
      "text/plain": [
       "0.0"
      ]
     },
     "execution_count": 52,
     "metadata": {},
     "output_type": "execute_result"
    },
    {
     "data": {
      "image/png": "[encoded data removed]",
      "text/plain": [
       "<Figure size 432x288 with 1 Axes>"
      ]
     },
     "metadata": {},
     "output_type": "display_data"
    }
   ],
   "source": [
    "plt.figure(figsize=(6,4))\n",
    "plt.hist(perc_5_freqs)\n",
    "plt.axvline(fold_says.get('5%'),color='r');\n",
    "(np.array(perc_5_freqs) < fold_says.get('5%')).mean()"
   ]
  },
  {
   "cell_type": "markdown",
   "id": "8134a3c1",
   "metadata": {},
   "source": [
    "The chance of winning 5% back occurs more frequently than expected."
   ]
  },
  {
   "cell_type": "markdown",
   "id": "7a446353",
   "metadata": {},
   "source": [
    "# Conclusion\n",
    "\n",
    "The New Year Wheel from fold seems to be more generous in terms of 3% and 5%, "
   ]
  },
  {
   "cell_type": "code",
   "execution_count": null,
   "id": "4ef782fe",
   "metadata": {},
   "outputs": [],
   "source": []
  },
  {
   "cell_type": "code",
   "execution_count": null,
   "id": "c21c4cf8",
   "metadata": {},
   "outputs": [],
   "source": []
  }
 ],
 "metadata": {
  "kernelspec": {
   "display_name": "Python 3 (ipykernel)",
   "language": "python",
   "name": "python3"
  },
  "language_info": {
   "codemirror_mode": {
    "name": "ipython",
    "version": 3
   },
   "file_extension": ".py",
   "mimetype": "text/x-python",
   "name": "python",
   "nbconvert_exporter": "python",
   "pygments_lexer": "ipython3",
   "version": "3.8.12"
  }
 },
 "nbformat": 4,
 "nbformat_minor": 5
}
