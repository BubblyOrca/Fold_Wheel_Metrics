{
 "cells": [
  {
   "cell_type": "markdown",
   "id": "6a664b70",
   "metadata": {},
   "source": [
    "# Background\n",
    "\n",
    "The fold card allows the user to get sats back on purchases rather than a percentage of the purchase in fiat. Speciifcally, it is not a static percentage of the purchase the user gets back, but an opportunity to spin a random wheel for varying levels of sats back. The wheel, sats back, and percentages change on a regular basis. Once a user spins, they may accept their spin result or use earned additional spins to improve their sats back. \n",
    "\n",
    "Fold changes the wheel every month to six weeks. The possible awards and their odds change with each wheel. \n",
    "\n",
    "# Method\n",
    "Each wheel is added to this analysis when it has at least 100 spins including original spins, respins, and respins using spin bombs. Some awards have stated odds of <1%, and these are excluded. Also, spin results that did not occur in the sample were ignored in this analysis. \n",
    "\n",
    "The initial sample is used to bootstrap larger random samples and the distribution of the resulting frequencies was compared to the published expected frequencies."
   ]
  },
  {
   "cell_type": "code",
   "execution_count": 1,
   "id": "aea79f12",
   "metadata": {},
   "outputs": [],
   "source": [
    "#importing necessary libraries\n",
    "import pandas as pd\n",
    "import numpy as np\n",
    "import matplotlib.pyplot as plt\n",
    "import seaborn as sns"
   ]
  },
  {
   "cell_type": "markdown",
   "id": "2b8be68e",
   "metadata": {},
   "source": [
    "First, let's identify what wheel you wish to use by uncommenting it below:"
   ]
  },
  {
   "cell_type": "code",
   "execution_count": 2,
   "id": "360ba70b",
   "metadata": {},
   "outputs": [],
   "source": [
    "file = 'March_Renew_Wheel.csv'\n",
    "# file = 'March_Wheel.csv'\n",
    "# file = 'February_Wheel.csv'\n",
    "# file = 'New_Year_Wheel.csv'"
   ]
  },
  {
   "cell_type": "markdown",
   "id": "3e95000b",
   "metadata": {},
   "source": [
    "First, let's bring in Fold's published odds as our expected frequencies (Exp_Freq)."
   ]
  },
  {
   "cell_type": "code",
   "execution_count": 3,
   "id": "5ae492d2",
   "metadata": {
    "scrolled": true
   },
   "outputs": [
    {
     "name": "stdout",
     "output_type": "stream",
     "text": [
      "Expected rewards for March_Renew_Wheel\n",
      "\n",
      "       Award  Exp_Freq\n",
      "1    2 spins  0.067899\n",
      "4   Lg_purch  0.060000\n",
      "5      Purch  0.060000\n",
      "6        Bal  0.070000\n",
      "7   100 sats  0.080000\n",
      "9      0.25%  0.080000\n",
      "10      0.5%  0.080000\n",
      "11     0.75%  0.120000\n",
      "12        1%  0.140000\n",
      "13      1.5%  0.120000\n",
      "14        2%  0.050000\n",
      "15        3%  0.040000\n",
      "16        4%  0.030000\n",
      "20     Total  0.992900\n",
      "\n",
      "Total does not equal 100% because we drop those awards that have expected frequency of less than 1%\n"
     ]
    }
   ],
   "source": [
    "expected_df = pd.read_csv('Expected_Rewards.csv')\n",
    "col_name,_ = file.split('.')\n",
    "expected_df = expected_df[['Award',col_name]].dropna()\n",
    "expected_df.rename(columns={col_name:'Exp_Freq'},inplace=True)\n",
    "\n",
    "print(f'Expected rewards for {col_name}\\n')\n",
    "print(expected_df)\n",
    "print('\\nTotal does not equal 100% because we drop those awards that have expected frequency of less than 1%')\n"
   ]
  },
  {
   "cell_type": "markdown",
   "id": "d5f34211",
   "metadata": {},
   "source": [
    "Now, we'll take a look at the observed spins from the chosen wheel."
   ]
  },
  {
   "cell_type": "code",
   "execution_count": 4,
   "id": "e4864474",
   "metadata": {},
   "outputs": [
    {
     "name": "stdout",
     "output_type": "stream",
     "text": [
      "  SPIN_RESULT\n",
      "0        1.5%\n",
      "1        1.5%\n",
      "2    100 sats\n",
      "3          3%\n",
      "The first 5 of the list of rewards of 4 spins\n"
     ]
    }
   ],
   "source": [
    "df = pd.read_csv(file)\n",
    "print(df)\n",
    "observations = df.shape[0]\n",
    "print(f'The first 5 of the list of rewards of {observations} spins')\n",
    "obs_spins = df.SPIN_RESULT.tolist()\n",
    "obs_spins[0:5]\n",
    "spins_set_list = list(set(obs_spins))\n"
   ]
  },
  {
   "cell_type": "code",
   "execution_count": 5,
   "id": "22efcbb9",
   "metadata": {},
   "outputs": [
    {
     "data": {
      "text/html": [
       "<div>\n",
       "<style scoped>\n",
       "    .dataframe tbody tr th:only-of-type {\n",
       "        vertical-align: middle;\n",
       "    }\n",
       "\n",
       "    .dataframe tbody tr th {\n",
       "        vertical-align: top;\n",
       "    }\n",
       "\n",
       "    .dataframe thead th {\n",
       "        text-align: right;\n",
       "    }\n",
       "</style>\n",
       "<table border=\"1\" class=\"dataframe\">\n",
       "  <thead>\n",
       "    <tr style=\"text-align: right;\">\n",
       "      <th></th>\n",
       "      <th>Result</th>\n",
       "      <th>Freq</th>\n",
       "      <th>Type</th>\n",
       "    </tr>\n",
       "  </thead>\n",
       "  <tbody>\n",
       "    <tr>\n",
       "      <th>0</th>\n",
       "      <td>1.5%</td>\n",
       "      <td>0.50</td>\n",
       "      <td>Obs_Freq</td>\n",
       "    </tr>\n",
       "    <tr>\n",
       "      <th>1</th>\n",
       "      <td>100 sats</td>\n",
       "      <td>0.25</td>\n",
       "      <td>Obs_Freq</td>\n",
       "    </tr>\n",
       "    <tr>\n",
       "      <th>2</th>\n",
       "      <td>3%</td>\n",
       "      <td>0.25</td>\n",
       "      <td>Obs_Freq</td>\n",
       "    </tr>\n",
       "  </tbody>\n",
       "</table>\n",
       "</div>"
      ],
      "text/plain": [
       "     Result  Freq      Type\n",
       "0      1.5%  0.50  Obs_Freq\n",
       "1  100 sats  0.25  Obs_Freq\n",
       "2        3%  0.25  Obs_Freq"
      ]
     },
     "execution_count": 5,
     "metadata": {},
     "output_type": "execute_result"
    }
   ],
   "source": [
    "#create dataframe of observed spins frequency\n",
    "observed_df = pd.DataFrame(pd.DataFrame({'Result':obs_spins}).value_counts(normalize=True),columns=['Freq'])\n",
    "observed_df['Type']='Obs_Freq'\n",
    "observed_df.reset_index(inplace=True,drop=False)\n",
    "observed_df = observed_df[observed_df.Result.isin(expected_df['Award'].tolist())]\n",
    "observed_df"
   ]
  },
  {
   "cell_type": "markdown",
   "id": "5f75487d",
   "metadata": {},
   "source": [
    "Now let's bring these together for an initial look."
   ]
  },
  {
   "cell_type": "code",
   "execution_count": 6,
   "id": "a87ee2aa",
   "metadata": {
    "scrolled": false
   },
   "outputs": [
    {
     "data": {
      "text/html": [
       "<div>\n",
       "<style scoped>\n",
       "    .dataframe tbody tr th:only-of-type {\n",
       "        vertical-align: middle;\n",
       "    }\n",
       "\n",
       "    .dataframe tbody tr th {\n",
       "        vertical-align: top;\n",
       "    }\n",
       "\n",
       "    .dataframe thead th {\n",
       "        text-align: right;\n",
       "    }\n",
       "</style>\n",
       "<table border=\"1\" class=\"dataframe\">\n",
       "  <thead>\n",
       "    <tr style=\"text-align: right;\">\n",
       "      <th></th>\n",
       "      <th>Result</th>\n",
       "      <th>Freq</th>\n",
       "      <th>Type</th>\n",
       "    </tr>\n",
       "  </thead>\n",
       "  <tbody>\n",
       "    <tr>\n",
       "      <th>0</th>\n",
       "      <td>1.5%</td>\n",
       "      <td>0.50</td>\n",
       "      <td>Obs_Freq</td>\n",
       "    </tr>\n",
       "    <tr>\n",
       "      <th>1</th>\n",
       "      <td>100 sats</td>\n",
       "      <td>0.25</td>\n",
       "      <td>Obs_Freq</td>\n",
       "    </tr>\n",
       "    <tr>\n",
       "      <th>2</th>\n",
       "      <td>3%</td>\n",
       "      <td>0.25</td>\n",
       "      <td>Obs_Freq</td>\n",
       "    </tr>\n",
       "    <tr>\n",
       "      <th>3</th>\n",
       "      <td>100 sats</td>\n",
       "      <td>0.08</td>\n",
       "      <td>Expected_Freq</td>\n",
       "    </tr>\n",
       "    <tr>\n",
       "      <th>4</th>\n",
       "      <td>1.5%</td>\n",
       "      <td>0.12</td>\n",
       "      <td>Expected_Freq</td>\n",
       "    </tr>\n",
       "    <tr>\n",
       "      <th>5</th>\n",
       "      <td>3%</td>\n",
       "      <td>0.04</td>\n",
       "      <td>Expected_Freq</td>\n",
       "    </tr>\n",
       "  </tbody>\n",
       "</table>\n",
       "</div>"
      ],
      "text/plain": [
       "     Result  Freq           Type\n",
       "0      1.5%  0.50       Obs_Freq\n",
       "1  100 sats  0.25       Obs_Freq\n",
       "2        3%  0.25       Obs_Freq\n",
       "3  100 sats  0.08  Expected_Freq\n",
       "4      1.5%  0.12  Expected_Freq\n",
       "5        3%  0.04  Expected_Freq"
      ]
     },
     "execution_count": 6,
     "metadata": {},
     "output_type": "execute_result"
    }
   ],
   "source": [
    "expected_df\n",
    "expected_df.rename(columns={'Award':'Result','Exp_Freq':'Freq'},inplace=True)\n",
    "exp_set_list = expected_df.Result.tolist()\n",
    "expected_df['Type'] = 'Expected_Freq'\n",
    "expected_df=expected_df[expected_df.Result!='Total']\n",
    "expected_df = expected_df[expected_df.Result.isin(list(set(obs_spins)))] #removes any expected spin that didn't occur\n",
    "\n",
    "observed_df = observed_df[observed_df['Result'].isin(exp_set_list)]\n",
    "df=observed_df.append(expected_df,ignore_index=True)\n",
    "\n",
    "df"
   ]
  },
  {
   "cell_type": "markdown",
   "id": "ce1e7d14",
   "metadata": {},
   "source": [
    "And we can visualize this for an ituitive first look."
   ]
  },
  {
   "cell_type": "code",
   "execution_count": 7,
   "id": "69018ce2",
   "metadata": {
    "scrolled": false
   },
   "outputs": [
    {
     "data": {
      "image/png": "[encoded data removed]",
      "text/plain": [
       "<Figure size 792x360 with 1 Axes>"
      ]
     },
     "metadata": {},
     "output_type": "display_data"
    }
   ],
   "source": [
    "sns.set(rc={'figure.figsize':(11,5)})\n",
    "sns.set_style('white')\n",
    "sns.pointplot(x=df.Type, y=df.Freq,hue=df.Result,data=df,dodge=True);"
   ]
  },
  {
   "cell_type": "markdown",
   "id": "3a002326",
   "metadata": {},
   "source": [
    "A horizontal line in the graph above shows that the observed frequency and the expected frequency are the same. Lines with negative slope show rewards that occur more frequently than expected. Lines with positive slope show rewards that occur less frequency than expected.\n",
    "\n",
    "But what we can't see from this pointplot is any statistical validity in this assessment. Normally, with only about 100 observations of so many outcomes, we wouldn't have the power to do any statistical validity. However, bootstrapping or resampling with replacement offers us a chance to create confidence intervals to compare observed results with. \n",
    "\n",
    "We can iterate the list of observed rewards, create bootstrapped distributions from them and map the observed frequency on that distribution."
   ]
  },
  {
   "cell_type": "code",
   "execution_count": 8,
   "id": "31dd1d5f",
   "metadata": {},
   "outputs": [
    {
     "name": "stdout",
     "output_type": "stream",
     "text": [
      "Green lines are 95% confidence intervals of the distributions in blue\n",
      "Red line is observed frequency\n"
     ]
    },
    {
     "data": {
      "image/png": "[encoded data removed]",
      "text/plain": [
       "<Figure size 576x360 with 1 Axes>"
      ]
     },
     "metadata": {},
     "output_type": "display_data"
    },
    {
     "data": {
      "image/png": "[encoded data removed]",
      "text/plain": [
       "<Figure size 576x360 with 1 Axes>"
      ]
     },
     "metadata": {},
     "output_type": "display_data"
    },
    {
     "data": {
      "image/png": "[encoded data removed]",
      "text/plain": [
       "<Figure size 576x360 with 1 Axes>"
      ]
     },
     "metadata": {},
     "output_type": "display_data"
    }
   ],
   "source": [
    "print('Green lines are 95% confidence intervals of the distributions in blue')\n",
    "print('Red line is observed frequency')\n",
    "exp_set_list = [x for x in exp_set_list if x in observed_df.Result.tolist()]\n",
    "spins = np.array(obs_spins)\n",
    "for award in exp_set_list:\n",
    "    temp = expected_df[expected_df.Result==award].reset_index()\n",
    "    obs_freq = temp.Freq.tolist()[0]\n",
    "    award_freqs=[]\n",
    "    for i in range(10000):\n",
    "        #create bootstrap sample\n",
    "        boot = np.random.choice(spins,spins.size,replace=True)\n",
    "        # find resulting frequency for 30-day purchases\n",
    "        award_freq = boot[boot==award].size/boot.size\n",
    "        award_freqs.append(award_freq)\n",
    "    plt.figure(figsize=(8,5))\n",
    "    array = np.array(award_freqs)\n",
    "#     p = (np.array(award_freqs) <= obs_freq).mean()\n",
    "    tile_25 = np.percentile(array,2.5)\n",
    "    tile_975 = np.percentile(array,97.5)\n",
    "    plt.axvline(tile_25,color='green')\n",
    "    plt.axvline(tile_975,color='green')\n",
    "    plt.title(f'Bootstrapped Distribution of {award} Reward')\n",
    "    plt.hist(award_freqs)\n",
    "        \n",
    "    plt.axvline(obs_freq,color='r');\n",
    "    \n"
   ]
  },
  {
   "cell_type": "code",
   "execution_count": null,
   "id": "03212609",
   "metadata": {},
   "outputs": [],
   "source": []
  },
  {
   "cell_type": "code",
   "execution_count": null,
   "id": "80238a89",
   "metadata": {},
   "outputs": [],
   "source": []
  }
 ],
 "metadata": {
  "kernelspec": {
   "display_name": "Python 3 (ipykernel)",
   "language": "python",
   "name": "python3"
  },
  "language_info": {
   "codemirror_mode": {
    "name": "ipython",
    "version": 3
   },
   "file_extension": ".py",
   "mimetype": "text/x-python",
   "name": "python",
   "nbconvert_exporter": "python",
   "pygments_lexer": "ipython3",
   "version": "3.8.12"
  }
 },
 "nbformat": 4,
 "nbformat_minor": 5
}
