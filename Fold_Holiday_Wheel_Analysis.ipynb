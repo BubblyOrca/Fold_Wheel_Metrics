{
 "cells": [
  {
   "cell_type": "markdown",
   "id": "6a664b70",
   "metadata": {},
   "source": [
    "# Background\n",
    "\n",
    "The fold card allows the user to get sats back on purchases rather than a percentage of the purchase in fiat. Speciifcally, it is not a static percentage of the purchase the user gets back, but an opportunity to spin a random wheel for varying levels of sats back. The wheel, sats back, and percentages change on a regular basis. This is an analysis of Fold's 2021-22 holiday season wheel.\n",
    "\n",
    "Fold states that the expected frequency of it's results are:\n",
    "\n",
    "Spinbomb - 1% (spinbombs result in many extra spins that the user must use within minutes)\n",
    "\n",
    "Deposits - 17.5% (the user gets 100% of their 30 day deposits in sats up to 1000 sats)\n",
    "\n",
    "Purchases - 17.5% (the user gets 100% of their 30 day purchases in sats up to 1000 sats)\n",
    "\n",
    "0.25% back - 16.99% (the user gets 0.25% of the purchase back in sats to a max of $20 in sats)\n",
    "\n",
    "1% back - 17.5% (the user gets 1% of the purchase back in sats to a max of $20 in sats)\n",
    "\n",
    "1.5% back - 17.5% (the user gets 1.5% of the purchase back in sats to a max of $20 in sats)\n",
    "\n",
    "4% back - 5% (The user gets 4% of the purchase back in sats to a max of $20 in sats)\n",
    "\n",
    "Once a user spins, they may accept their spin result or use earned additional spins to improve their sats back. \n",
    "\n",
    "# Method\n",
    "105 consequtive spins were recorded. These include original spins and used extra spins that the user aquired via Fold's processes. Spin results that did not occur in the sample were ignored in this analysis. \n",
    "\n",
    "The initial sample was used to bootstrap larger random samples and the distribution of the resulting frequencies was compared to the published expected frequencies."
   ]
  },
  {
   "cell_type": "code",
   "execution_count": 254,
   "id": "aea79f12",
   "metadata": {},
   "outputs": [],
   "source": [
    "#importing necessary libraries\n",
    "import pandas as pd\n",
    "import numpy as np\n",
    "import matplotlib.pyplot as plt\n",
    "import seaborn as sns"
   ]
  },
  {
   "cell_type": "markdown",
   "id": "3e95000b",
   "metadata": {},
   "source": [
    "First, let's bring in Fold's published odds as our expected frequencies (Exp_Freq)."
   ]
  },
  {
   "cell_type": "code",
   "execution_count": 255,
   "id": "5ae492d2",
   "metadata": {
    "scrolled": true
   },
   "outputs": [
    {
     "data": {
      "text/html": [
       "<div>\n",
       "<style scoped>\n",
       "    .dataframe tbody tr th:only-of-type {\n",
       "        vertical-align: middle;\n",
       "    }\n",
       "\n",
       "    .dataframe tbody tr th {\n",
       "        vertical-align: top;\n",
       "    }\n",
       "\n",
       "    .dataframe thead th {\n",
       "        text-align: right;\n",
       "    }\n",
       "</style>\n",
       "<table border=\"1\" class=\"dataframe\">\n",
       "  <thead>\n",
       "    <tr style=\"text-align: right;\">\n",
       "      <th></th>\n",
       "      <th>Result</th>\n",
       "      <th>Freq</th>\n",
       "      <th>Type</th>\n",
       "    </tr>\n",
       "  </thead>\n",
       "  <tbody>\n",
       "    <tr>\n",
       "      <th>0</th>\n",
       "      <td>Spinbomb</td>\n",
       "      <td>0.0100</td>\n",
       "      <td>Exp_Freq</td>\n",
       "    </tr>\n",
       "    <tr>\n",
       "      <th>1</th>\n",
       "      <td>Dep</td>\n",
       "      <td>0.1750</td>\n",
       "      <td>Exp_Freq</td>\n",
       "    </tr>\n",
       "    <tr>\n",
       "      <th>2</th>\n",
       "      <td>Purch</td>\n",
       "      <td>0.1750</td>\n",
       "      <td>Exp_Freq</td>\n",
       "    </tr>\n",
       "    <tr>\n",
       "      <th>3</th>\n",
       "      <td>1000 sats</td>\n",
       "      <td>0.0700</td>\n",
       "      <td>Exp_Freq</td>\n",
       "    </tr>\n",
       "    <tr>\n",
       "      <th>4</th>\n",
       "      <td>1%</td>\n",
       "      <td>0.1750</td>\n",
       "      <td>Exp_Freq</td>\n",
       "    </tr>\n",
       "    <tr>\n",
       "      <th>5</th>\n",
       "      <td>1.5%</td>\n",
       "      <td>0.1750</td>\n",
       "      <td>Exp_Freq</td>\n",
       "    </tr>\n",
       "    <tr>\n",
       "      <th>6</th>\n",
       "      <td>0.25%</td>\n",
       "      <td>0.1699</td>\n",
       "      <td>Exp_Freq</td>\n",
       "    </tr>\n",
       "    <tr>\n",
       "      <th>7</th>\n",
       "      <td>4%</td>\n",
       "      <td>0.0500</td>\n",
       "      <td>Exp_Freq</td>\n",
       "    </tr>\n",
       "  </tbody>\n",
       "</table>\n",
       "</div>"
      ],
      "text/plain": [
       "      Result    Freq      Type\n",
       "0   Spinbomb  0.0100  Exp_Freq\n",
       "1        Dep  0.1750  Exp_Freq\n",
       "2      Purch  0.1750  Exp_Freq\n",
       "3  1000 sats  0.0700  Exp_Freq\n",
       "4         1%  0.1750  Exp_Freq\n",
       "5       1.5%  0.1750  Exp_Freq\n",
       "6      0.25%  0.1699  Exp_Freq\n",
       "7         4%  0.0500  Exp_Freq"
      ]
     },
     "execution_count": 255,
     "metadata": {},
     "output_type": "execute_result"
    }
   ],
   "source": [
    "expected_df = pd.DataFrame({'Result':['Spinbomb','Dep','Purch','1000 sats','1%','1.5%','0.25%','4%'],\n",
    "             'Freq':[.01,.175,.175,.07,.175,.175,.1699,.05]}).set_index('Result',drop=True)\n",
    "expected_df['Type']='Exp_Freq'\n",
    "expected_df.reset_index(inplace=True,drop=False)\n",
    "expected_df"
   ]
  },
  {
   "cell_type": "markdown",
   "id": "d5f34211",
   "metadata": {},
   "source": [
    "Now, we'll take a look at the 105 observed spins from the last two weeks of 2021."
   ]
  },
  {
   "cell_type": "code",
   "execution_count": 256,
   "id": "e4864474",
   "metadata": {},
   "outputs": [],
   "source": [
    "obs_spins = ['Dep', '1%', 'Purch', '1000 sats', '1.5%', '1%', 'Dep', 'Purch',\n",
    "       '1%', '1%', '1.5%', '4%', '1%', '1%', '0.25%', '1000 sats', '1.5%',\n",
    "       '1%', '1.5%', 'Purch', '1.5%', 'Purch', 'Dep', '4%', '1%', 'Dep',\n",
    "       'Dep', '1%', '0.25%', 'Purch', '0.25%', '0.25%', 'Spinbomb', '1%',\n",
    "       '0.25%', '1%', 'Dep', '0.25%', '0.25%', 'Purch', '1000 sats',\n",
    "       '1.5%', '1.5%', 'Purch', '0.25%', '1%', '0.25%', 'Purch', 'Purch',\n",
    "       '0.25%', 'Dep', 'Purch', 'Dep', 'Dep', 'Purch', '1%', '0.25%',\n",
    "       '4%', '1%', '1.5%', '1%', '1.5%', '1.5%', '1%', 'Purch', '1%',\n",
    "       '1.5%', '1%', '1.5%', 'Dep', 'Purch', '0.25%', '1%', '4%', '1%',\n",
    "       '0.25%', '1000 sats', '4%', 'Dep', '1000 sats', '1.5%', '1%', '1%',\n",
    "       '1000 sats', '1.5%', '1.5%', '1000 sats', '1.5%', 'Dep', '0.25%',\n",
    "       '0.25%', '1%', '1000 sats', '1.5%', '1%', '1%', '1.5%', '1.5%',\n",
    "       'Dep', '0.25%', 'Dep', 'Dep', 'Purch', '0.25%', 'Purch']"
   ]
  },
  {
   "cell_type": "code",
   "execution_count": 257,
   "id": "22efcbb9",
   "metadata": {},
   "outputs": [
    {
     "data": {
      "text/html": [
       "<div>\n",
       "<style scoped>\n",
       "    .dataframe tbody tr th:only-of-type {\n",
       "        vertical-align: middle;\n",
       "    }\n",
       "\n",
       "    .dataframe tbody tr th {\n",
       "        vertical-align: top;\n",
       "    }\n",
       "\n",
       "    .dataframe thead th {\n",
       "        text-align: right;\n",
       "    }\n",
       "</style>\n",
       "<table border=\"1\" class=\"dataframe\">\n",
       "  <thead>\n",
       "    <tr style=\"text-align: right;\">\n",
       "      <th></th>\n",
       "      <th>Result</th>\n",
       "      <th>Freq</th>\n",
       "      <th>Type</th>\n",
       "    </tr>\n",
       "  </thead>\n",
       "  <tbody>\n",
       "    <tr>\n",
       "      <th>0</th>\n",
       "      <td>1%</td>\n",
       "      <td>0.238095</td>\n",
       "      <td>Obs_Freq</td>\n",
       "    </tr>\n",
       "    <tr>\n",
       "      <th>1</th>\n",
       "      <td>1.5%</td>\n",
       "      <td>0.180952</td>\n",
       "      <td>Obs_Freq</td>\n",
       "    </tr>\n",
       "    <tr>\n",
       "      <th>2</th>\n",
       "      <td>0.25%</td>\n",
       "      <td>0.161905</td>\n",
       "      <td>Obs_Freq</td>\n",
       "    </tr>\n",
       "    <tr>\n",
       "      <th>3</th>\n",
       "      <td>Dep</td>\n",
       "      <td>0.142857</td>\n",
       "      <td>Obs_Freq</td>\n",
       "    </tr>\n",
       "    <tr>\n",
       "      <th>4</th>\n",
       "      <td>Purch</td>\n",
       "      <td>0.142857</td>\n",
       "      <td>Obs_Freq</td>\n",
       "    </tr>\n",
       "    <tr>\n",
       "      <th>5</th>\n",
       "      <td>1000 sats</td>\n",
       "      <td>0.076190</td>\n",
       "      <td>Obs_Freq</td>\n",
       "    </tr>\n",
       "    <tr>\n",
       "      <th>6</th>\n",
       "      <td>4%</td>\n",
       "      <td>0.047619</td>\n",
       "      <td>Obs_Freq</td>\n",
       "    </tr>\n",
       "    <tr>\n",
       "      <th>7</th>\n",
       "      <td>Spinbomb</td>\n",
       "      <td>0.009524</td>\n",
       "      <td>Obs_Freq</td>\n",
       "    </tr>\n",
       "  </tbody>\n",
       "</table>\n",
       "</div>"
      ],
      "text/plain": [
       "      Result      Freq      Type\n",
       "0         1%  0.238095  Obs_Freq\n",
       "1       1.5%  0.180952  Obs_Freq\n",
       "2      0.25%  0.161905  Obs_Freq\n",
       "3        Dep  0.142857  Obs_Freq\n",
       "4      Purch  0.142857  Obs_Freq\n",
       "5  1000 sats  0.076190  Obs_Freq\n",
       "6         4%  0.047619  Obs_Freq\n",
       "7   Spinbomb  0.009524  Obs_Freq"
      ]
     },
     "execution_count": 257,
     "metadata": {},
     "output_type": "execute_result"
    }
   ],
   "source": [
    "#create dataframe of observed spins frequency\n",
    "observed_df = pd.DataFrame(pd.DataFrame({'Result':obs_spins}).value_counts(normalize=True),columns=['Freq'])\n",
    "observed_df['Type']='Obs_Freq'\n",
    "observed_df.reset_index(inplace=True,drop=False)\n",
    "observed_df"
   ]
  },
  {
   "cell_type": "markdown",
   "id": "5f75487d",
   "metadata": {},
   "source": [
    "Now let's bring these together for an initial look."
   ]
  },
  {
   "cell_type": "code",
   "execution_count": 258,
   "id": "a87ee2aa",
   "metadata": {
    "scrolled": false
   },
   "outputs": [
    {
     "data": {
      "text/html": [
       "<div>\n",
       "<style scoped>\n",
       "    .dataframe tbody tr th:only-of-type {\n",
       "        vertical-align: middle;\n",
       "    }\n",
       "\n",
       "    .dataframe tbody tr th {\n",
       "        vertical-align: top;\n",
       "    }\n",
       "\n",
       "    .dataframe thead th {\n",
       "        text-align: right;\n",
       "    }\n",
       "</style>\n",
       "<table border=\"1\" class=\"dataframe\">\n",
       "  <thead>\n",
       "    <tr style=\"text-align: right;\">\n",
       "      <th></th>\n",
       "      <th>Result</th>\n",
       "      <th>Freq</th>\n",
       "      <th>Type</th>\n",
       "    </tr>\n",
       "  </thead>\n",
       "  <tbody>\n",
       "    <tr>\n",
       "      <th>0</th>\n",
       "      <td>1%</td>\n",
       "      <td>0.238095</td>\n",
       "      <td>Obs_Freq</td>\n",
       "    </tr>\n",
       "    <tr>\n",
       "      <th>1</th>\n",
       "      <td>1.5%</td>\n",
       "      <td>0.180952</td>\n",
       "      <td>Obs_Freq</td>\n",
       "    </tr>\n",
       "    <tr>\n",
       "      <th>2</th>\n",
       "      <td>0.25%</td>\n",
       "      <td>0.161905</td>\n",
       "      <td>Obs_Freq</td>\n",
       "    </tr>\n",
       "    <tr>\n",
       "      <th>3</th>\n",
       "      <td>Dep</td>\n",
       "      <td>0.142857</td>\n",
       "      <td>Obs_Freq</td>\n",
       "    </tr>\n",
       "    <tr>\n",
       "      <th>4</th>\n",
       "      <td>Purch</td>\n",
       "      <td>0.142857</td>\n",
       "      <td>Obs_Freq</td>\n",
       "    </tr>\n",
       "    <tr>\n",
       "      <th>5</th>\n",
       "      <td>1000 sats</td>\n",
       "      <td>0.076190</td>\n",
       "      <td>Obs_Freq</td>\n",
       "    </tr>\n",
       "    <tr>\n",
       "      <th>6</th>\n",
       "      <td>4%</td>\n",
       "      <td>0.047619</td>\n",
       "      <td>Obs_Freq</td>\n",
       "    </tr>\n",
       "    <tr>\n",
       "      <th>7</th>\n",
       "      <td>Spinbomb</td>\n",
       "      <td>0.009524</td>\n",
       "      <td>Obs_Freq</td>\n",
       "    </tr>\n",
       "    <tr>\n",
       "      <th>0</th>\n",
       "      <td>Spinbomb</td>\n",
       "      <td>0.010000</td>\n",
       "      <td>Exp_Freq</td>\n",
       "    </tr>\n",
       "    <tr>\n",
       "      <th>1</th>\n",
       "      <td>Dep</td>\n",
       "      <td>0.175000</td>\n",
       "      <td>Exp_Freq</td>\n",
       "    </tr>\n",
       "    <tr>\n",
       "      <th>2</th>\n",
       "      <td>Purch</td>\n",
       "      <td>0.175000</td>\n",
       "      <td>Exp_Freq</td>\n",
       "    </tr>\n",
       "    <tr>\n",
       "      <th>3</th>\n",
       "      <td>1000 sats</td>\n",
       "      <td>0.070000</td>\n",
       "      <td>Exp_Freq</td>\n",
       "    </tr>\n",
       "    <tr>\n",
       "      <th>4</th>\n",
       "      <td>1%</td>\n",
       "      <td>0.175000</td>\n",
       "      <td>Exp_Freq</td>\n",
       "    </tr>\n",
       "    <tr>\n",
       "      <th>5</th>\n",
       "      <td>1.5%</td>\n",
       "      <td>0.175000</td>\n",
       "      <td>Exp_Freq</td>\n",
       "    </tr>\n",
       "    <tr>\n",
       "      <th>6</th>\n",
       "      <td>0.25%</td>\n",
       "      <td>0.169900</td>\n",
       "      <td>Exp_Freq</td>\n",
       "    </tr>\n",
       "    <tr>\n",
       "      <th>7</th>\n",
       "      <td>4%</td>\n",
       "      <td>0.050000</td>\n",
       "      <td>Exp_Freq</td>\n",
       "    </tr>\n",
       "  </tbody>\n",
       "</table>\n",
       "</div>"
      ],
      "text/plain": [
       "      Result      Freq      Type\n",
       "0         1%  0.238095  Obs_Freq\n",
       "1       1.5%  0.180952  Obs_Freq\n",
       "2      0.25%  0.161905  Obs_Freq\n",
       "3        Dep  0.142857  Obs_Freq\n",
       "4      Purch  0.142857  Obs_Freq\n",
       "5  1000 sats  0.076190  Obs_Freq\n",
       "6         4%  0.047619  Obs_Freq\n",
       "7   Spinbomb  0.009524  Obs_Freq\n",
       "0   Spinbomb  0.010000  Exp_Freq\n",
       "1        Dep  0.175000  Exp_Freq\n",
       "2      Purch  0.175000  Exp_Freq\n",
       "3  1000 sats  0.070000  Exp_Freq\n",
       "4         1%  0.175000  Exp_Freq\n",
       "5       1.5%  0.175000  Exp_Freq\n",
       "6      0.25%  0.169900  Exp_Freq\n",
       "7         4%  0.050000  Exp_Freq"
      ]
     },
     "execution_count": 258,
     "metadata": {},
     "output_type": "execute_result"
    }
   ],
   "source": [
    "df=observed_df.append(expected_df)\n",
    "\n",
    "df"
   ]
  },
  {
   "cell_type": "markdown",
   "id": "0b9ea04a",
   "metadata": {},
   "source": [
    "And we can visualize this for an ituitive first look."
   ]
  },
  {
   "cell_type": "code",
   "execution_count": 261,
   "id": "69018ce2",
   "metadata": {
    "scrolled": false
   },
   "outputs": [
    {
     "data": {
      "image/png": "[encoded data removed]",
      "text/plain": [
       "<Figure size 792x360 with 1 Axes>"
      ]
     },
     "metadata": {},
     "output_type": "display_data"
    }
   ],
   "source": [
    "sns.set(rc={'figure.figsize':(11,5)})\n",
    "sns.set_style('white')\n",
    "sns.pointplot(x=df.Type, y=df.Freq,hue=df.Result,data=df,dodge=True);"
   ]
  },
  {
   "cell_type": "markdown",
   "id": "b5b68615",
   "metadata": {},
   "source": [
    "So, just eyeballing the data it looks like several spin results are in line with the expected odds. Spinbomb, 1000 sats, 4% of purchase, 1.5% of purchase, and 0.25% of purchase all appear as nearly horizontal lines.\n",
    "\n",
    "However, both 30-day purchases and deposits seem to occur at lower frequencies than expected, while 1% of purchase appears to occur at much higher frequency than expected.\n",
    "\n",
    "But what we can't see from this pointplot is any statistical validity in this assessment. Normally, with only 105 observations of 8 outcomes, we wouldn't have the power to do any statistical validity. However, bootstrapping or resampling with replacement offers us a chance to create confidence intervals to compare observed results with. \n",
    "\n",
    "Our first step is to create a numpy array from our observed dataset."
   ]
  },
  {
   "cell_type": "code",
   "execution_count": 240,
   "id": "ebf1d77c",
   "metadata": {
    "scrolled": false
   },
   "outputs": [],
   "source": [
    "spins = np.array(obs_spins)"
   ]
  },
  {
   "cell_type": "markdown",
   "id": "ed0e684f",
   "metadata": {},
   "source": [
    "Now we create empty lists to hold our "
   ]
  },
  {
   "cell_type": "code",
   "execution_count": 242,
   "id": "97812925",
   "metadata": {},
   "outputs": [],
   "source": [
    "#set all lists to empty\n",
    "purch_freqs=[]\n",
    "sats_freqs=[]\n",
    "perc_quart_freqs=[]\n",
    "spinbomb_freqs=[]\n",
    "perc_15_freqs=[]\n",
    "dep_freqs=[]\n",
    "perc_4_freqs=[]\n",
    "perc_1_freqs=[]\n",
    "for i in range(10000):\n",
    "    #create bootstrap sample\n",
    "    boot = np.random.choice(spins,10000,replace=True)\n",
    "\n",
    "    purch_freq = boot[boot=='Purch'].size/boot.size\n",
    "    purch_freqs.append(purch_freq)\n",
    "\n",
    "    sats_freq = boot[boot=='1000 sats'].size/boot.size\n",
    "    sats_freqs.append(sats_freq)\n",
    "\n",
    "    perc_quart_freq = boot[boot=='0.25%'].size/boot.size\n",
    "    perc_quart_freqs.append(perc_quart_freq)\n",
    "\n",
    "    spinbomb_freq = boot[boot=='Spinbomb'].size/boot.size\n",
    "    spinbomb_freqs.append(spinbomb_freq)\n",
    "    perc_15_freq = boot[boot=='1.5%'].size/boot.size\n",
    "    perc_15_freqs.append(perc_15_freq)\n",
    "    dep_freq = boot[boot=='Dep'].size/boot.size\n",
    "    dep_freqs.append(dep_freq)\n",
    "    perc_4_freq = boot[boot=='4%'].size/boot.size\n",
    "    perc_4_freqs.append(perc_4_freq)\n",
    "    perc_1_freq = boot[boot=='1%'].size/boot.size\n",
    "    perc_1_freqs.append(perc_1_freq)\n"
   ]
  },
  {
   "cell_type": "code",
   "execution_count": 243,
   "id": "8a8c080a",
   "metadata": {
    "scrolled": true
   },
   "outputs": [
    {
     "data": {
      "text/plain": [
       "0.011"
      ]
     },
     "execution_count": 243,
     "metadata": {},
     "output_type": "execute_result"
    },
    {
     "data": {
      "image/png": "[encoded data removed]",
      "text/plain": [
       "<Figure size 432x288 with 1 Axes>"
      ]
     },
     "metadata": {},
     "output_type": "display_data"
    }
   ],
   "source": [
    "plt.figure(figsize=(6,4))\n",
    "plt.hist(sats_freqs)\n",
    "plt.axvline(fold_says.get('1000 sats'),color='r');\n",
    "(np.array(sats_freqs) <= fold_says.get('1000 sats')).mean()"
   ]
  },
  {
   "cell_type": "markdown",
   "id": "34369b7c",
   "metadata": {},
   "source": [
    "The 95% confidence interval for the bootstrapped mean does not include the expected frequency of 1000 sats. Winning 1000 sats occurs more than expected."
   ]
  },
  {
   "cell_type": "code",
   "execution_count": 244,
   "id": "1a8017e3",
   "metadata": {},
   "outputs": [
    {
     "data": {
      "image/png": "[encoded data removed]",
      "text/plain": [
       "<Figure size 432x288 with 1 Axes>"
      ]
     },
     "metadata": {},
     "output_type": "display_data"
    }
   ],
   "source": [
    "plt.figure(figsize=(6,4))\n",
    "plt.hist(purch_freqs)\n",
    "plt.axvline(fold_says.get('Purch'),color='r');"
   ]
  },
  {
   "cell_type": "markdown",
   "id": "c33fa077",
   "metadata": {},
   "source": [
    "The 95% confidence interval for the bootstrapped mean does not include the expected frequency of winning the 30 days purchases in sats. Winning 30 days purchases in sats occurs less frequently than expected."
   ]
  },
  {
   "cell_type": "code",
   "execution_count": 245,
   "id": "3a2e8fb3",
   "metadata": {},
   "outputs": [
    {
     "data": {
      "text/plain": [
       "0.0164"
      ]
     },
     "execution_count": 245,
     "metadata": {},
     "output_type": "execute_result"
    },
    {
     "data": {
      "image/png": "[encoded data removed]",
      "text/plain": [
       "<Figure size 432x288 with 1 Axes>"
      ]
     },
     "metadata": {},
     "output_type": "display_data"
    }
   ],
   "source": [
    "plt.figure(figsize=(6,4))\n",
    "plt.hist(perc_quart_freqs)\n",
    "plt.axvline(fold_says.get('0.25%'),color='r');\n",
    "(np.array(perc_quart_freqs)>=fold_says.get('0.25%')).mean()"
   ]
  },
  {
   "cell_type": "markdown",
   "id": "aab52d11",
   "metadata": {},
   "source": [
    "The 95% confidence interval of the mean of the bootstrapped samples does not contain the expected frequency of winning 0.25% of the purchase. It occurs less frequently."
   ]
  },
  {
   "cell_type": "code",
   "execution_count": 246,
   "id": "551d0fdf",
   "metadata": {
    "scrolled": true
   },
   "outputs": [
    {
     "data": {
      "image/png": "[encoded data removed]",
      "text/plain": [
       "<Figure size 432x288 with 1 Axes>"
      ]
     },
     "metadata": {},
     "output_type": "display_data"
    }
   ],
   "source": [
    "plt.figure(figsize=(6,4))\n",
    "plt.hist(spinbomb_freqs,range=[0, .1])\n",
    "plt.axvline(fold_says.get('Spinbomb'),color='r');"
   ]
  },
  {
   "cell_type": "markdown",
   "id": "d450bca0",
   "metadata": {},
   "source": [
    "The published frequency occurs within the 95% confidence interval of the bootstrapped samples."
   ]
  },
  {
   "cell_type": "code",
   "execution_count": 247,
   "id": "e91b03f7",
   "metadata": {
    "scrolled": true
   },
   "outputs": [
    {
     "data": {
      "text/plain": [
       "0.0621"
      ]
     },
     "execution_count": 247,
     "metadata": {},
     "output_type": "execute_result"
    },
    {
     "data": {
      "image/png": "[encoded data removed]",
      "text/plain": [
       "<Figure size 432x288 with 1 Axes>"
      ]
     },
     "metadata": {},
     "output_type": "display_data"
    }
   ],
   "source": [
    "plt.figure(figsize=(6,4))\n",
    "plt.hist(perc_15_freqs)\n",
    "plt.axvline(fold_says.get('1.5%'),color='r');\n",
    "(np.array(perc_15_freqs)<=fold_says.get('1.5%')).mean()"
   ]
  },
  {
   "cell_type": "markdown",
   "id": "7cc1b372",
   "metadata": {},
   "source": [
    "The published frequency of winning 1.5% of the purchase back in sats is within the 95% confidence interval of the bootstrapped samples."
   ]
  },
  {
   "cell_type": "code",
   "execution_count": 248,
   "id": "16240c26",
   "metadata": {},
   "outputs": [
    {
     "data": {
      "image/png": "[encoded data removed]",
      "text/plain": [
       "<Figure size 432x288 with 1 Axes>"
      ]
     },
     "metadata": {},
     "output_type": "display_data"
    }
   ],
   "source": [
    "plt.figure(figsize=(6,4))\n",
    "plt.hist(dep_freqs)\n",
    "plt.axvline(fold_says.get('Dep'),color='r');"
   ]
  },
  {
   "cell_type": "markdown",
   "id": "8bca7f69",
   "metadata": {},
   "source": [
    "The published frequency of winning 30 days Deposits in sats is not within the 95% confidence interval of the bootstrapped samples. It occurs less frequently than published."
   ]
  },
  {
   "cell_type": "code",
   "execution_count": 249,
   "id": "97c940f3",
   "metadata": {},
   "outputs": [
    {
     "data": {
      "image/png": "[encoded data removed]",
      "text/plain": [
       "<Figure size 432x288 with 1 Axes>"
      ]
     },
     "metadata": {},
     "output_type": "display_data"
    }
   ],
   "source": [
    "plt.figure(figsize=(6,4))\n",
    "plt.hist(perc_1_freqs)\n",
    "plt.axvline(fold_says.get('1%'),color='r');"
   ]
  },
  {
   "cell_type": "code",
   "execution_count": 250,
   "id": "bca73ab7",
   "metadata": {},
   "outputs": [
    {
     "data": {
      "image/png": "[encoded data removed]",
      "text/plain": [
       "<Figure size 432x288 with 1 Axes>"
      ]
     },
     "metadata": {},
     "output_type": "display_data"
    }
   ],
   "source": [
    "plt.figure(figsize=(6,4))\n",
    "plt.hist(perc_4_freqs)\n",
    "plt.axvline(fold_says.get('4%'),color='r');"
   ]
  },
  {
   "cell_type": "markdown",
   "id": "cea3ec4b",
   "metadata": {},
   "source": [
    "The published frequency of winning 4% of the purchase back in sats is within the 95% confidence intervals of the bootstrapped samples. "
   ]
  },
  {
   "cell_type": "code",
   "execution_count": null,
   "id": "03212609",
   "metadata": {},
   "outputs": [],
   "source": []
  }
 ],
 "metadata": {
  "kernelspec": {
   "display_name": "Python 3 (ipykernel)",
   "language": "python",
   "name": "python3"
  },
  "language_info": {
   "codemirror_mode": {
    "name": "ipython",
    "version": 3
   },
   "file_extension": ".py",
   "mimetype": "text/x-python",
   "name": "python",
   "nbconvert_exporter": "python",
   "pygments_lexer": "ipython3",
   "version": "3.8.12"
  }
 },
 "nbformat": 4,
 "nbformat_minor": 5
}
