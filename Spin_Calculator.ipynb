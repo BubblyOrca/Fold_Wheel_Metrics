{
 "cells": [
  {
   "cell_type": "code",
   "execution_count": 23,
   "id": "81af6024",
   "metadata": {},
   "outputs": [],
   "source": [
    "import pandas as pd\n",
    "import matplotlib.pyplot as plt\n"
   ]
  },
  {
   "cell_type": "code",
   "execution_count": 24,
   "id": "0dea43b5",
   "metadata": {},
   "outputs": [
    {
     "data": {
      "text/html": [
       "<div>\n",
       "<style scoped>\n",
       "    .dataframe tbody tr th:only-of-type {\n",
       "        vertical-align: middle;\n",
       "    }\n",
       "\n",
       "    .dataframe tbody tr th {\n",
       "        vertical-align: top;\n",
       "    }\n",
       "\n",
       "    .dataframe thead th {\n",
       "        text-align: right;\n",
       "    }\n",
       "</style>\n",
       "<table border=\"1\" class=\"dataframe\">\n",
       "  <thead>\n",
       "    <tr style=\"text-align: right;\">\n",
       "      <th></th>\n",
       "      <th>Award</th>\n",
       "      <th>March_Renew_Wheel</th>\n",
       "    </tr>\n",
       "  </thead>\n",
       "  <tbody>\n",
       "    <tr>\n",
       "      <th>1</th>\n",
       "      <td>2 spins</td>\n",
       "      <td>0.067899</td>\n",
       "    </tr>\n",
       "    <tr>\n",
       "      <th>4</th>\n",
       "      <td>Lg_purch</td>\n",
       "      <td>0.060000</td>\n",
       "    </tr>\n",
       "    <tr>\n",
       "      <th>5</th>\n",
       "      <td>Purch</td>\n",
       "      <td>0.060000</td>\n",
       "    </tr>\n",
       "    <tr>\n",
       "      <th>6</th>\n",
       "      <td>Bal</td>\n",
       "      <td>0.070000</td>\n",
       "    </tr>\n",
       "    <tr>\n",
       "      <th>7</th>\n",
       "      <td>100 sats</td>\n",
       "      <td>0.080000</td>\n",
       "    </tr>\n",
       "    <tr>\n",
       "      <th>9</th>\n",
       "      <td>0.25%</td>\n",
       "      <td>0.080000</td>\n",
       "    </tr>\n",
       "    <tr>\n",
       "      <th>10</th>\n",
       "      <td>0.5%</td>\n",
       "      <td>0.080000</td>\n",
       "    </tr>\n",
       "    <tr>\n",
       "      <th>11</th>\n",
       "      <td>0.75%</td>\n",
       "      <td>0.120000</td>\n",
       "    </tr>\n",
       "    <tr>\n",
       "      <th>12</th>\n",
       "      <td>1%</td>\n",
       "      <td>0.140000</td>\n",
       "    </tr>\n",
       "    <tr>\n",
       "      <th>13</th>\n",
       "      <td>1.5%</td>\n",
       "      <td>0.120000</td>\n",
       "    </tr>\n",
       "    <tr>\n",
       "      <th>14</th>\n",
       "      <td>2%</td>\n",
       "      <td>0.050000</td>\n",
       "    </tr>\n",
       "    <tr>\n",
       "      <th>15</th>\n",
       "      <td>3%</td>\n",
       "      <td>0.040000</td>\n",
       "    </tr>\n",
       "    <tr>\n",
       "      <th>16</th>\n",
       "      <td>4%</td>\n",
       "      <td>0.030000</td>\n",
       "    </tr>\n",
       "  </tbody>\n",
       "</table>\n",
       "</div>"
      ],
      "text/plain": [
       "       Award  March_Renew_Wheel\n",
       "1    2 spins           0.067899\n",
       "4   Lg_purch           0.060000\n",
       "5      Purch           0.060000\n",
       "6        Bal           0.070000\n",
       "7   100 sats           0.080000\n",
       "9      0.25%           0.080000\n",
       "10      0.5%           0.080000\n",
       "11     0.75%           0.120000\n",
       "12        1%           0.140000\n",
       "13      1.5%           0.120000\n",
       "14        2%           0.050000\n",
       "15        3%           0.040000\n",
       "16        4%           0.030000"
      ]
     },
     "execution_count": 24,
     "metadata": {},
     "output_type": "execute_result"
    }
   ],
   "source": [
    "#import the expected awards\n",
    "expected_df = pd.read_csv('Expected_Rewards.csv')\n",
    "wheel = 'March_Renew_Wheel'\n",
    "expected_df = expected_df[['Award',wheel]].dropna()\n",
    "expected_df=expected_df[expected_df.Award!='Total']\n",
    "expected_df"
   ]
  },
  {
   "cell_type": "code",
   "execution_count": 37,
   "id": "20d7503f",
   "metadata": {},
   "outputs": [],
   "source": [
    "#inputs\n",
    "\n",
    "#create no_spin as the default or the last spin to judge on respins\n",
    "no_spin = .01 #enter the award if you don't spin \n",
    "\n",
    "bitcoin_price = 44880 #current bitcoin price\n",
    "largest_purch_7_days = 130 #input your largest purchase in the last 7 days\n",
    "largest_purch_7_days = 2*largest_purch_7_days\n",
    "purch_30_days = 4000 #cumluative purchases over the last 30 days\n",
    "balance = 4194 #current card balance\n",
    "\n",
    "have_3 = True # make True if you have already won 3% award this wheel\n",
    "have_4 = True #make True if you have already won 4% award this wheel\n",
    "limits = {'Lg_Purch':5000,'Purch':1000,'Bal':1000} #these are awards that are limited\n",
    "non_percents = {'2 spins':0,'Lg_Purch':largest_purch_7_days,'Purch':purch_30_days,'100 sats':100,'Bal':1000,'2 spins':0}\n",
    "if have_3 and have_4:\n",
    "    percents = {'0.25%':.0025,'0.5%':.005,'0.75%':.0075,'1%':.01,'1.5%':.015,'2%':.02,'3%':.0,'4%':.0}\n",
    "elif have_3 == False and have_4 == False:\n",
    "    percents = {'0.25%':.0025,'0.5%':.005,'0.75%':.0075,'1%':.01,'1.5%':.015,'2%':.02,'3%':.04,'4%':.03}\n",
    "elif have_3 == True and have_4 == False:\n",
    "    percents = {'0.25%':.0025,'0.5%':.005,'0.75%':.0075,'1%':.01,'1.5%':.015,'2%':.02,'3%':.0,'4%':.03}\n",
    "elif have_3 == False and have_4 == True:\n",
    "    percents = {'0.25%':.0025,'0.5%':.005,'0.75%':.0075,'1%':.01,'1.5%':.015,'2%':.02,'3%':.04,'4%':.0}\n",
    "times = ['4%','3%'] #these are awards that you can only win a single time in a wheel"
   ]
  },
  {
   "cell_type": "code",
   "execution_count": 39,
   "id": "b932931f",
   "metadata": {},
   "outputs": [
    {
     "name": "stdout",
     "output_type": "stream",
     "text": [
      "1% of this purchase of $22.03 is 490 sats.\n",
      "$20 =  44563.2798573975\n"
     ]
    }
   ],
   "source": [
    "#figure out the no spin award for this purchase\n",
    "purch_amount = 22.03\n",
    "no_spin_award = no_spin*100000000*purch_amount/bitcoin_price\n",
    "print(f'1% of this purchase of ${purch_amount} is {int(no_spin_award)} sats.')\n",
    "print('$20 = ',20* 1/(bitcoin_price/100000000))\n",
    "# no_spin_award = 5000"
   ]
  },
  {
   "cell_type": "code",
   "execution_count": 36,
   "id": "9805bdd4",
   "metadata": {},
   "outputs": [
    {
     "name": "stdout",
     "output_type": "stream",
     "text": [
      "Given Balance = $4268, Largest Purchase in last 7 days = $260, and total 30 day purchase of $4000\n"
     ]
    },
    {
     "data": {
      "image/png": "[encoded data removed]",
      "text/plain": [
       "<Figure size 1224x360 with 1 Axes>"
      ]
     },
     "metadata": {
      "needs_background": "light"
     },
     "output_type": "display_data"
    }
   ],
   "source": [
    "awards = expected_df.Award.tolist()\n",
    "x=[]\n",
    "y=[]\n",
    "max = 200\n",
    "for purch_amount in range(1,max,1): \n",
    "    x.append(purch_amount)\n",
    "    no_spin_award = no_spin*100000000*purch_amount/bitcoin_price\n",
    "#     print(no_spin_award)\n",
    "    above = []\n",
    "    for award in awards:\n",
    "        if award in non_percents:\n",
    "            if non_percents.get(award)>no_spin_award:\n",
    "                above.append(award)\n",
    "        if award in percents:\n",
    "            if percents.get(award)*100000000*purch_amount/bitcoin_price > no_spin_award:\n",
    "                above.append(award)\n",
    "    \n",
    "#     print(above)\n",
    "    over_df = expected_df[expected_df.Award.isin(above)]\n",
    "    chance_over = over_df[wheel].sum() \n",
    "    chance_spins = expected_df[expected_df.Award=='2 spins'][wheel].tolist()[0]\n",
    "    chance_over = chance_over + 2*chance_spins*chance_over\n",
    "    y.append(chance_over)\n",
    "#     print(f'For ${purch_amount}, the no spin amount is {round(no_spin_award,0)}sats and the chance of spinning better than that is {round(100*chance_over,1)}%')\n",
    "\n",
    "print(f'Given Balance = ${balance}, Largest Purchase in last 7 days = ${largest_purch_7_days}, and total 30 day purchase of ${purch_30_days}')\n",
    "plt.figure(figsize = (17,5))\n",
    "plt.title(f'Chance of Spinning Better Than the Default {100*no_spin}%')\n",
    "plt.ylim(.01,.6)\n",
    "plt.xlim(0,max)\n",
    "plt.ylabel('Probability of a better spin')\n",
    "plt.xlabel('Purchase Amount')\n",
    "plt.xticks([0,5,10,15,20,25,30,35,40,45,50,55,60,65,70,75,80,85,90,95,100,105,110,\n",
    "           115,120,125,130,135,140,145,150,155,160,165,170,175,180,185,190,195,200])\n",
    "plt.plot(x,y);"
   ]
  },
  {
   "cell_type": "code",
   "execution_count": null,
   "id": "03d99fd6",
   "metadata": {},
   "outputs": [],
   "source": []
  },
  {
   "cell_type": "code",
   "execution_count": null,
   "id": "6da7a2bf",
   "metadata": {},
   "outputs": [],
   "source": []
  }
 ],
 "metadata": {
  "kernelspec": {
   "display_name": "Python 3 (ipykernel)",
   "language": "python",
   "name": "python3"
  },
  "language_info": {
   "codemirror_mode": {
    "name": "ipython",
    "version": 3
   },
   "file_extension": ".py",
   "mimetype": "text/x-python",
   "name": "python",
   "nbconvert_exporter": "python",
   "pygments_lexer": "ipython3",
   "version": "3.8.12"
  }
 },
 "nbformat": 4,
 "nbformat_minor": 5
}
